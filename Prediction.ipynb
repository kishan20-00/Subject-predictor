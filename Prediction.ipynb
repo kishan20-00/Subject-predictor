{
 "cells": [
  {
   "cell_type": "code",
   "execution_count": 17,
   "metadata": {},
   "outputs": [],
   "source": [
    "import pandas as pd\n",
    "from sklearn.model_selection import train_test_split\n",
    "from sklearn.preprocessing import LabelEncoder\n",
    "from sklearn.ensemble import RandomForestClassifier\n",
    "from sklearn.metrics import classification_report, accuracy_score, confusion_matrix\n",
    "\n",
    "# Optional: for scaling numerical data\n",
    "from sklearn.preprocessing import StandardScaler\n"
   ]
  },
  {
   "cell_type": "code",
   "execution_count": 18,
   "metadata": {},
   "outputs": [
    {
     "data": {
      "text/html": [
       "<div>\n",
       "<style scoped>\n",
       "    .dataframe tbody tr th:only-of-type {\n",
       "        vertical-align: middle;\n",
       "    }\n",
       "\n",
       "    .dataframe tbody tr th {\n",
       "        vertical-align: top;\n",
       "    }\n",
       "\n",
       "    .dataframe thead th {\n",
       "        text-align: right;\n",
       "    }\n",
       "</style>\n",
       "<table border=\"1\" class=\"dataframe\">\n",
       "  <thead>\n",
       "    <tr style=\"text-align: right;\">\n",
       "      <th></th>\n",
       "      <th>Subject</th>\n",
       "      <th>Course Score</th>\n",
       "      <th>Learning Score</th>\n",
       "      <th>Quiz Score</th>\n",
       "      <th>Recommendation</th>\n",
       "    </tr>\n",
       "  </thead>\n",
       "  <tbody>\n",
       "    <tr>\n",
       "      <th>0</th>\n",
       "      <td>Artificial Intelligence and Machine Learning</td>\n",
       "      <td>100</td>\n",
       "      <td>9</td>\n",
       "      <td>95</td>\n",
       "      <td>Artificial Intelligence and Machine Learning</td>\n",
       "    </tr>\n",
       "    <tr>\n",
       "      <th>1</th>\n",
       "      <td>Artificial Intelligence and Machine Learning</td>\n",
       "      <td>99</td>\n",
       "      <td>18</td>\n",
       "      <td>51</td>\n",
       "      <td>Artificial Intelligence and Machine Learning</td>\n",
       "    </tr>\n",
       "    <tr>\n",
       "      <th>2</th>\n",
       "      <td>Artificial Intelligence and Machine Learning</td>\n",
       "      <td>98</td>\n",
       "      <td>3</td>\n",
       "      <td>81</td>\n",
       "      <td>Artificial Intelligence and Machine Learning</td>\n",
       "    </tr>\n",
       "    <tr>\n",
       "      <th>3</th>\n",
       "      <td>Artificial Intelligence and Machine Learning</td>\n",
       "      <td>97</td>\n",
       "      <td>10</td>\n",
       "      <td>67</td>\n",
       "      <td>Artificial Intelligence and Machine Learning</td>\n",
       "    </tr>\n",
       "    <tr>\n",
       "      <th>4</th>\n",
       "      <td>Artificial Intelligence and Machine Learning</td>\n",
       "      <td>96</td>\n",
       "      <td>88</td>\n",
       "      <td>73</td>\n",
       "      <td>Data Science and Analytics</td>\n",
       "    </tr>\n",
       "  </tbody>\n",
       "</table>\n",
       "</div>"
      ],
      "text/plain": [
       "                                        Subject  Course Score  Learning Score  \\\n",
       "0  Artificial Intelligence and Machine Learning           100               9   \n",
       "1  Artificial Intelligence and Machine Learning            99              18   \n",
       "2  Artificial Intelligence and Machine Learning            98               3   \n",
       "3  Artificial Intelligence and Machine Learning            97              10   \n",
       "4  Artificial Intelligence and Machine Learning            96              88   \n",
       "\n",
       "   Quiz Score                                Recommendation  \n",
       "0          95  Artificial Intelligence and Machine Learning  \n",
       "1          51  Artificial Intelligence and Machine Learning  \n",
       "2          81  Artificial Intelligence and Machine Learning  \n",
       "3          67  Artificial Intelligence and Machine Learning  \n",
       "4          73                    Data Science and Analytics  "
      ]
     },
     "execution_count": 18,
     "metadata": {},
     "output_type": "execute_result"
    }
   ],
   "source": [
    "# Load your dataset\n",
    "df = pd.read_csv('Content_recommend.csv')\n",
    "\n",
    "# Display the first few rows to check the data\n",
    "df.head()"
   ]
  },
  {
   "cell_type": "code",
   "execution_count": 19,
   "metadata": {},
   "outputs": [
    {
     "name": "stdout",
     "output_type": "stream",
     "text": [
      "   Subject  Course Score  Learning Score  Quiz Score  Recommendation\n",
      "0        0      1.695674       -1.389133    1.539503               0\n",
      "1        0      1.661075       -1.079805    0.033907               0\n",
      "2        0      1.626475       -1.595351    1.060450               0\n",
      "3        0      1.591876       -1.354763    0.581396               0\n",
      "4        0      1.557277        1.326076    0.786705               3\n"
     ]
    }
   ],
   "source": [
    "import joblib  # For saving and loading models and scalers\n",
    "\n",
    "# Encode categorical columns\n",
    "label_encoder_subject = LabelEncoder()\n",
    "label_encoder_recommendation = LabelEncoder()\n",
    "\n",
    "df['Subject'] = label_encoder_subject.fit_transform(df['Subject'])\n",
    "df['Recommendation'] = label_encoder_recommendation.fit_transform(df['Recommendation'])\n",
    "\n",
    "# Optional: Scale numerical features\n",
    "scaler = StandardScaler()\n",
    "df[['Course Score', 'Learning Score', 'Quiz Score']] = scaler.fit_transform(df[['Course Score', 'Learning Score', 'Quiz Score']])\n",
    "\n",
    "# Save the encoders and scaler\n",
    "joblib.dump(label_encoder_subject, 'label_encoder_subject.pkl')\n",
    "joblib.dump(label_encoder_recommendation, 'label_encoder_recommendation.pkl')\n",
    "joblib.dump(scaler, 'scaler.pkl')\n",
    "\n",
    "# Display the processed data\n",
    "print(df.head())\n"
   ]
  },
  {
   "cell_type": "code",
   "execution_count": 20,
   "metadata": {},
   "outputs": [
    {
     "name": "stdout",
     "output_type": "stream",
     "text": [
      "Training data: (4044, 4), Testing data: (1012, 4)\n"
     ]
    }
   ],
   "source": [
    "# Separate features and target variable\n",
    "X = df.drop('Recommendation', axis=1)\n",
    "y = df['Recommendation']\n",
    "\n",
    "# Split the data\n",
    "X_train, X_test, y_train, y_test = train_test_split(X, y, test_size=0.2, random_state=42)\n",
    "\n",
    "print(f\"Training data: {X_train.shape}, Testing data: {X_test.shape}\")"
   ]
  },
  {
   "cell_type": "code",
   "execution_count": 21,
   "metadata": {},
   "outputs": [],
   "source": [
    "# Initialize the model\n",
    "model = RandomForestClassifier(random_state=42)\n",
    "\n",
    "# Train the model\n",
    "model.fit(X_train, y_train)\n",
    "\n",
    "# Make predictions\n",
    "y_pred = model.predict(X_test)"
   ]
  },
  {
   "cell_type": "code",
   "execution_count": 22,
   "metadata": {},
   "outputs": [
    {
     "name": "stdout",
     "output_type": "stream",
     "text": [
      "Accuracy: 0.99\n",
      "              precision    recall  f1-score   support\n",
      "\n",
      "           0       1.00      1.00      1.00        82\n",
      "           1       1.00      0.96      0.98        95\n",
      "           2       1.00      1.00      1.00        85\n",
      "           3       1.00      0.98      0.99        84\n",
      "           4       1.00      1.00      1.00        84\n",
      "           5       1.00      1.00      1.00        78\n",
      "           6       0.96      1.00      0.98       297\n",
      "           7       1.00      0.96      0.98        76\n",
      "           8       1.00      0.96      0.98        91\n",
      "           9       1.00      1.00      1.00        40\n",
      "\n",
      "    accuracy                           0.99      1012\n",
      "   macro avg       1.00      0.99      0.99      1012\n",
      "weighted avg       0.99      0.99      0.99      1012\n",
      "\n",
      "[[ 82   0   0   0   0   0   0   0   0   0]\n",
      " [  0  91   0   0   0   0   4   0   0   0]\n",
      " [  0   0  85   0   0   0   0   0   0   0]\n",
      " [  0   0   0  82   0   0   2   0   0   0]\n",
      " [  0   0   0   0  84   0   0   0   0   0]\n",
      " [  0   0   0   0   0  78   0   0   0   0]\n",
      " [  0   0   0   0   0   0 297   0   0   0]\n",
      " [  0   0   0   0   0   0   3  73   0   0]\n",
      " [  0   0   0   0   0   0   4   0  87   0]\n",
      " [  0   0   0   0   0   0   0   0   0  40]]\n"
     ]
    }
   ],
   "source": [
    "# Evaluate the model\n",
    "accuracy = accuracy_score(y_test, y_pred)\n",
    "print(f\"Accuracy: {accuracy:.2f}\")\n",
    "\n",
    "# Print classification report\n",
    "print(classification_report(y_test, y_pred))\n",
    "\n",
    "# Optional: Confusion matrix\n",
    "print(confusion_matrix(y_test, y_pred))\n"
   ]
  },
  {
   "cell_type": "code",
   "execution_count": 23,
   "metadata": {},
   "outputs": [
    {
     "data": {
      "text/plain": [
       "['classification_model.pkl']"
      ]
     },
     "execution_count": 23,
     "metadata": {},
     "output_type": "execute_result"
    }
   ],
   "source": [
    "# Save the model\n",
    "joblib.dump(model, 'classification_model.pkl')"
   ]
  },
  {
   "cell_type": "code",
   "execution_count": 24,
   "metadata": {},
   "outputs": [
    {
     "name": "stdout",
     "output_type": "stream",
     "text": [
      "Predicted Recommendation: IT Project Management\n"
     ]
    }
   ],
   "source": [
    "# Load the saved model and encoders\n",
    "model = joblib.load('classification_model.pkl')\n",
    "label_encoder_subject = joblib.load('label_encoder_subject.pkl')\n",
    "label_encoder_recommendation = joblib.load('label_encoder_recommendation.pkl')\n",
    "scaler = joblib.load('scaler.pkl')\n",
    "\n",
    "# Example of predicting with new data\n",
    "def predict_recommendation(subject, course_score, learning_score, quiz_score):\n",
    "    # Transform the categorical input\n",
    "    subject_encoded = label_encoder_subject.transform([subject])[0]\n",
    "\n",
    "    # Create DataFrame for the new data\n",
    "    new_data = pd.DataFrame([[subject_encoded, course_score, learning_score, quiz_score]],\n",
    "                            columns=['Subject', 'Course Score', 'Learning Score', 'Quiz Score'])\n",
    "    \n",
    "    # Scale the features\n",
    "    new_data[['Course Score', 'Learning Score', 'Quiz Score']] = scaler.transform(new_data[['Course Score', 'Learning Score', 'Quiz Score']])\n",
    "    \n",
    "    # Make prediction\n",
    "    prediction_encoded = model.predict(new_data)\n",
    "    \n",
    "    # Transform the prediction back to text\n",
    "    recommendation = label_encoder_recommendation.inverse_transform(prediction_encoded)\n",
    "    \n",
    "    return recommendation[0]\n",
    "\n",
    "# Test with new data\n",
    "subject = \"Artificial Intelligence and Machine Learning\"\n",
    "course_score = 75\n",
    "learning_score = 80\n",
    "quiz_score = 85\n",
    "\n",
    "print(f\"Predicted Recommendation: {predict_recommendation(subject, course_score, learning_score, quiz_score)}\")\n"
   ]
  }
 ],
 "metadata": {
  "kernelspec": {
   "display_name": "Python 3",
   "language": "python",
   "name": "python3"
  },
  "language_info": {
   "codemirror_mode": {
    "name": "ipython",
    "version": 3
   },
   "file_extension": ".py",
   "mimetype": "text/x-python",
   "name": "python",
   "nbconvert_exporter": "python",
   "pygments_lexer": "ipython3",
   "version": "3.12.3"
  }
 },
 "nbformat": 4,
 "nbformat_minor": 2
}
